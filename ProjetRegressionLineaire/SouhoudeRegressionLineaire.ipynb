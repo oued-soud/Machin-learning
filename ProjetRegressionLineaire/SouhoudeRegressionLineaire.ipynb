{
 "cells": [
  {
   "cell_type": "markdown",
   "metadata": {},
   "source": [
    "# Exercise 1: Regression Lineaire\n",
    "\n",
    "## Introduction\n",
    "\n",
    "Dans cet exercice, vous allez implémenter la régression linéaire et multiple et voir comment cela fonctionne sur les données. Avant de commencer cet exercice de programmation, nous vous recommandons fortement de regarder les cours, de lire ls articles.\n",
    "\n",
    "Toutes les informations dont vous avez besoin pour résoudre cette tâche se trouvent dans ce notebook et tout le code que vous implémenterez se trouvera dans ce notebook. \n",
    "\n",
    "Avant de commencer les exercices, nous devons importer toutes les bibliothèques requises pour cet exercice de programmation. Tout au long du cours, nous utiliserons [`numpy`] (http://www.numpy.org/) pour tous les tableaux et opérations matricielles, et [` matplotlib`] (https://matplotlib.org/) pour les représentations graphiques.\n",
    "\n"
   ]
  },
  {
   "cell_type": "code",
   "execution_count": null,
   "metadata": {},
   "outputs": [],
   "source": []
  },
  {
   "cell_type": "code",
   "execution_count": 1,
   "metadata": {},
   "outputs": [
    {
     "name": "stdout",
     "output_type": "stream",
     "text": [
      "Requirement already satisfied: autopep8 in c:\\users\\oued soud\\anaconda3\\lib\\site-packages (1.5.3)\n",
      "Requirement already satisfied: toml in c:\\users\\oued soud\\anaconda3\\lib\\site-packages (from autopep8) (0.10.1)\n",
      "Requirement already satisfied: pycodestyle>=2.6.0 in c:\\users\\oued soud\\anaconda3\\lib\\site-packages (from autopep8) (2.6.0)\n"
     ]
    }
   ],
   "source": [
    "!pip install autopep8"
   ]
  },
  {
   "cell_type": "code",
   "execution_count": 2,
   "metadata": {},
   "outputs": [
    {
     "name": "stdout",
     "output_type": "stream",
     "text": [
      "Requirement already satisfied: utils in c:\\users\\oued soud\\anaconda3\\lib\\site-packages (1.0.1)\n"
     ]
    }
   ],
   "source": [
    "!pip install utils"
   ]
  },
  {
   "cell_type": "code",
   "execution_count": null,
   "metadata": {},
   "outputs": [],
   "source": []
  },
  {
   "cell_type": "code",
   "execution_count": 3,
   "metadata": {},
   "outputs": [],
   "source": [
    "# used for manipulating directory paths\n",
    "import os\n",
    "\n",
    "# Scientific and vector computation for python\n",
    "import numpy as np\n",
    "\n",
    "# Plotting library\n",
    "from matplotlib import pyplot as plt\n",
    "from matplotlib import pyplot \n",
    "from mpl_toolkits.mplot3d import Axes3D  # needed to plot 3-D surfaces\n",
    "\n",
    "# library written for this exercise providing additional functions for assignment submission, and others\n",
    "import utils \n",
    "\n",
    "\n",
    "\n",
    "# tells matplotlib to embed plots within the notebook\n",
    "%matplotlib inline"
   ]
  },
  {
   "cell_type": "markdown",
   "metadata": {},
   "source": [
    "## Submission and Grading\n",
    "\n",
    "Après avoir terminé chaque partie de la tâche, assurez-vous de mettre la solution dans votre page Github. Elle doit être accompagné d'un rapport en pdf ou html qui presente tous vos resultats et vous le paratger avec moi(mbousso@univ-thies.sn) et Tony(tony.tonalandu@univ-thies.sn).\n",
    "\n",
    "Pour cet exercice de programmation, il vous faudra  terminer la première partie de l'exercice pour implémenter la régression linéaire avec une variable et la deuxième partie de l'exercice qui couvre la régression linéaire avec plusieurs variables. Voici une ventilation de la façon dont chaque partie de cet exercice est notée.\n",
    "\n",
    "**Regression lineaire simple**\n",
    "\n",
    "| Section | Partie                                           |Fonction correspondante                     | Points \n",
    "|---------|:-                                             |:-                                     | :-:    \n",
    "| 1       | [exercice introductif](#section1)                  | [`warmUpExercise`](#warmUpExercise)    |  5    \n",
    "| 2       | [Calcul de coût pour une variable](#section2)     | [`computeCost`](#computeCost)         |  20    \n",
    "| 3       | [Gradient descent pour une variable](#section3) | [`gradientDescent`](#gradientDescent) |  25    \n",
    "|         | Total Points                                   |                                       | 50    \n",
    "\n",
    "**Regression linéaire multiple**\n",
    "\n",
    "| Section | Part                                                 | Submitted Function | Points |\n",
    "|:-------:|:-                                                    |:-:                  | :-:    |\n",
    "| 4       | [Normalization des variables](#section4)                   | [`featureNormalize`](#featureNormalize) | 10      |\n",
    "| 5       | [Calcul de coût pour plusieurs variables](#section5)     | [`computeCostMulti`](#computeCostMulti) | 15      |\n",
    "| 6       | [Gradient descent pour plusieurs variables](#section5) | [`gradientDescentMulti`](#gradientDescentMulti) |15      |\n",
    "| 7       | [Equation Normale](#section7)                        | [`normalEqn`](#normalEqn)        | 10      |\n",
    "\n",
    "\n",
    "\n",
    "\n",
    "## Attention\n",
    "\n",
    "Voici quelques éléments à garder à l'esprit tout au long de cet exercice:\n",
    "\n",
    "- Les indices de tableau Python commencent à zéro. \n",
    "\n",
    "- Il existe une distinction importante entre les tableaux python (appelés `list` ou` tuple`) et les tableaux `numpy`. Vous devez utiliser des tableaux `numpy` dans tous vos calculs. Les opérations vectorielles / matricielles fonctionnent uniquement avec les tableaux «numpy». Les listes Python ne prennent pas en charge les opérations vectorielles (vous devez utiliser pour les boucles).\n",
    "\n",
    "- Si vous voyez de nombreuses erreurs lors de l'exécution, inspectez vos opérations matricielles pour vous assurer que vous ajoutez et multipliez des matrices de dimensions compatibles. L'impression des dimensions des tableaux `numpy` en utilisant la propriété` shape` vous aidera à déboguer.\n",
    "\n",
    "- Par défaut, `numpy` interprète les opérateurs mathématiques comme des opérateurs par élément. Si vous voulez faire une multiplication matricielle, vous devez utiliser la fonction `dot` dans` numpy`. Par exemple, si «A» et «B» sont deux matrices «numpy», alors l'opération de matrice AB est «np.dot (A, B)». Notez que pour les matrices ou vecteurs bidimensionnels (unidimensionnels), cela équivaut également à «A @ B» (nécessite python> = 3,5)."
   ]
  },
  {
   "cell_type": "markdown",
   "metadata": {},
   "source": [
    "<a id=\"section1\"></a>\n",
    "## 1 Simple python and `numpy` function\n",
    "\n",
    "La première partie de ce devoir vous donne de la pratique avec la syntaxe python et numpy. Dans la cellule suivante, vous trouverez le contour d'une fonction python. Modifiez-le pour renvoyer une matrice d'identité 5 x 5 en remplissant le code suivant:\n",
    "```python\n",
    "A = np.eye(5)\n",
    "```\n",
    "<a id=\"warmUpExercise\"></a>"
   ]
  },
  {
   "cell_type": "code",
   "execution_count": 4,
   "metadata": {},
   "outputs": [],
   "source": [
    "def warmUpExercise(n):\n",
    "    \"\"\"\n",
    "    Example function in Python which computes the identity matrix.\n",
    "    \n",
    "    Returns\n",
    "    -------\n",
    "    A : array_like\n",
    "        The 5x5 identity matrix.\n",
    "    \n",
    "    Instructions\n",
    "    ------------\n",
    "    Return the 5x5 identity matrix.\n",
    "    \"\"\"    \n",
    "    # ======== YOUR CODE HERE ======\n",
    "    A =  np.eye(5)\n",
    "    \n",
    "    # ==============================\n",
    "    return A"
   ]
  },
  {
   "cell_type": "code",
   "execution_count": null,
   "metadata": {},
   "outputs": [],
   "source": []
  },
  {
   "cell_type": "markdown",
   "metadata": {},
   "source": [
    "The previous cell only defines the function `warmUpExercise`. We can now run it by executing the following cell to see its output. You should see output similar to the following:\n",
    "\n",
    "```python\n",
    "array([[ 1.,  0.,  0.,  0.,  0.],\n",
    "       [ 0.,  1.,  0.,  0.,  0.],\n",
    "       [ 0.,  0.,  1.,  0.,  0.],\n",
    "       [ 0.,  0.,  0.,  1.,  0.],\n",
    "       [ 0.,  0.,  0.,  0.,  1.]])\n",
    "```"
   ]
  },
  {
   "cell_type": "code",
   "execution_count": 5,
   "metadata": {},
   "outputs": [
    {
     "data": {
      "text/plain": [
       "array([[1., 0., 0., 0., 0.],\n",
       "       [0., 1., 0., 0., 0.],\n",
       "       [0., 0., 1., 0., 0.],\n",
       "       [0., 0., 0., 1., 0.],\n",
       "       [0., 0., 0., 0., 1.]])"
      ]
     },
     "execution_count": 5,
     "metadata": {},
     "output_type": "execute_result"
    }
   ],
   "source": [
    "warmUpExercise(5)"
   ]
  },
  {
   "cell_type": "markdown",
   "metadata": {},
   "source": [
    "## 2 Regression lineaire à une seule variable\n",
    "\n",
    "Vous allez maintenant mettre en œuvre une régression linéaire avec une variable pour prédire les bénéfices d'une chaine d'alimentation. Supposons que vous soyez le PDG d'une franchise de restaurants et envisagez différentes villes pour ouvrir un nouveau point de vente. La chaîne possède déjà des camions dans diverses villes et vous disposez de données sur les bénéfices et les populations des villes. Vous souhaitez utiliser ces données pour vous aider à sélectionner la ville à développer ensuite.\n",
    "\n",
    "Le fichier Data / ex1data1.txt contient l'ensemble de données pour notre problème de régression linéaire. La première colonne est la population d'une ville (en 10 000) et la deuxième colonne est le profit d'un camion de nourriture dans cette ville (en 10 000 $). Une valeur négative pour le profit indique une perte.\n",
    "\n",
    "Nous vous fournissons le code nécessaire pour charger ces données. L'ensemble de données est chargé à partir du fichier de données dans les variables x et y:"
   ]
  },
  {
   "cell_type": "code",
   "execution_count": 6,
   "metadata": {},
   "outputs": [
    {
     "name": "stdout",
     "output_type": "stream",
     "text": [
      "    Pop(X) profit(y)\n",
      "--------------------------\n",
      "       6        18\n",
      "       6         9\n",
      "       9        14\n",
      "       7        12\n",
      "       6         7\n",
      "       8        12\n",
      "       7         4\n",
      "       9        12\n",
      "       6         7\n",
      "       5         4\n"
     ]
    }
   ],
   "source": [
    "# Read comma separated data\n",
    "data = np.loadtxt(os.path.join('Data', 'ex1data1.txt'),delimiter=',')\n",
    "\n",
    "X = data[:,0]\n",
    "y = data[:,1]\n",
    "\n",
    "m = X.size  # number of training examples\n",
    "# print out some data points\n",
    "print('{:>10s}{:>10s}'.format('Pop(X)', 'profit(y)'))\n",
    "print('-'*26)\n",
    "for i in range(10):\n",
    "    print('{:8.0f}{:10.0f}'.format(X[i], y[i]))"
   ]
  },
  {
   "cell_type": "markdown",
   "metadata": {},
   "source": [
    "### 2.1 Plotting the Data\n",
    "\n",
    "Avant de commencer une tâche, il est souvent utile de comprendre les données en les visualisant. Pour cet ensemble de données, vous pouvez utiliser un nuage de points pour visualiser les données, car il n'a que deux propriétés à tracer (profit et population). De nombreux autres problèmes que vous rencontrerez dans la vie réelle sont multidimensionnels et ne peuvent pas être tracés sur un tracé 2D. Il existe de nombreuses bibliothèques de traçage en python (voir ce billet de blog pour un bon résumé des plus populaires).\n",
    "\n",
    "Dans ce cours, nous utiliserons exclusivement matplotlib pour effectuer tous nos tracés. matplotlib est l'une des bibliothèques de traçage scientifique les plus populaires en python et dispose de nombreux outils et fonctions pour créer de beaux tracés. pyplot est un module de matplotlib qui fournit une interface simplifiée aux tâches de traçage les plus courantes de matplotlib, imitant l'interface de traçage de MATLAB.\n",
    "\n",
    "<div class=\"alert alert-block alert-warning\">\n",
    "Vous avez peut-être remarqué que nous avons importé le module `pyplot` au début de cet exercice en utilisant la commande` from matplotlib import pyplot`. C'est assez rare, et si vous regardez du code python ailleurs ou dans les tutoriels `matplotlib`, vous verrez que le module est nommé` plt`. Ceci est utilisé par le renommage de module en utilisant la commande d'importation `import matplotlib.pyplot as plt`. Nous n'utiliserons pas le nom court du module `pyplot` dans ces exercices de classe, mais vous devez être conscient de cet écart par rapport à la norme.\n",
    "\n",
    "</div>\n",
    "\n",
    "\n",
    "Dans la partie suivante, votre premier travail consiste à compléter la fonction `plotData` ci-dessous. Modifiez la fonction et remplissez le code suivant:\n",
    "\n",
    "```python\n",
    "    pyplot.plot(x, y, 'ro', ms=10, mec='k')\n",
    "    pyplot.ylabel('Profit in $10,000')\n",
    "    pyplot.xlabel('Population of City in 10,000s')\n",
    "```"
   ]
  },
  {
   "cell_type": "code",
   "execution_count": 7,
   "metadata": {},
   "outputs": [],
   "source": [
    "def plotData(x, y,xlabel,ylabel):\n",
    "    \"\"\"\n",
    "    Plots the data points x and y into a new figure. Plots the data \n",
    "    points and gives the figure axes labels of population and profit.\n",
    "    \n",
    "    Parameters\n",
    "    ----------\n",
    "    x : array_like\n",
    "        Data point values for x-axis.\n",
    "\n",
    "    y : array_like\n",
    "        Data point values for y-axis. Note x and y should have the same size.\n",
    "    \n",
    "    Instructions\n",
    "    ------------\n",
    "    Plot the training data into a figure using the \"figure\" and \"plot\"\n",
    "    functions. Set the axes labels using the \"xlabel\" and \"ylabel\" functions.\n",
    "    Assume the population and revenue data have been passed in as the x\n",
    "    and y arguments of this function.    \n",
    "    \n",
    "    Hint\n",
    "    ----\n",
    "    You can use the 'ro' option with plot to have the markers\n",
    "    appear as red circles. Furthermore, you can make the markers larger by\n",
    "    using plot(..., 'ro', ms=10), where `ms` refers to marker size. You \n",
    "    can also set the marker edge color using the `mec` property.\n",
    "    \"\"\"\n",
    "    fig = plt.figure()  # open a new figure\n",
    "    \n",
    "    # ====================== YOUR CODE HERE ======================= \n",
    "    pyplot.plot(x, y, 'ro', ms=10, mec='k')\n",
    "    pyplot.ylabel(ylabel)\n",
    "    pyplot.xlabel(xlabel)\n",
    "    # =============================================================\n"
   ]
  },
  {
   "cell_type": "markdown",
   "metadata": {},
   "source": [
    "Exécutez maintenant la fonction définie avec les données chargées pour visualiser les données. Le résultat final devrait ressembler à la figure suivante:\n",
    "\n",
    "![](Figures/dataset1.png)\n",
    "\n",
    "Exécutez la cellule suivante pour visualiser les données."
   ]
  },
  {
   "cell_type": "code",
   "execution_count": 8,
   "metadata": {},
   "outputs": [
    {
     "data": {
      "image/png": "[encoded data removed]",
      "text/plain": [
       "<Figure size 432x288 with 1 Axes>"
      ]
     },
     "metadata": {
      "needs_background": "light"
     },
     "output_type": "display_data"
    }
   ],
   "source": [
    "plotData(X, y,'Population of City in 10,000s','Profit in $10,000')"
   ]
  },
  {
   "cell_type": "markdown",
   "metadata": {},
   "source": [
    "Pour en savoir plus rapidement sur la fonction de tracé `matplotlib` et quels arguments vous pouvez lui fournir, vous pouvez taper`? Pyplot.plot` dans une cellule du carnet jupyter. Cela ouvre une page séparée affichant la documentation de la fonction demandée. Vous pouvez également rechercher en ligne la documentation de traçage.\n",
    "\n",
    "Pour définir les marqueurs sur des cercles rouges, nous avons utilisé l'option `` ou '' dans la fonction `plot`."
   ]
  },
  {
   "cell_type": "code",
   "execution_count": 9,
   "metadata": {},
   "outputs": [],
   "source": [
    "#?plt.plot"
   ]
  },
  {
   "cell_type": "markdown",
   "metadata": {},
   "source": [
    "<a id=\"section2\"></a>\n",
    "### 2.2 Gradient Descent\n",
    "\n",
    "Dans cette partie, vous adapterez les paramètres de régression linéaire $ \\theta $ à notre ensemble de données en utilisant la descente en gradient.\n",
    "\n",
    "#### 2.2.1 Update Equations\n",
    "\n",
    "L'objectif de la régression linéaire est de minimiser la fonction de coût\n",
    "\n",
    "$$ J(\\theta) = \\frac{1}{2m} \\sum_{i=1}^m \\left( h_{\\theta}(x^{(i)}) - y^{(i)}\\right)^2$$\n",
    "\n",
    "où la fonction d'hypothèse $h_\\theta(x)$ est donné par le modèle linéaire\n",
    "$$ h_\\theta(x) = \\theta^Tx = \\theta_0 + \\theta_1 x_1$$\n",
    "\n",
    "Rappelez-vous que les paramètres de votre modèle sont les valeurs $ \\ theta_j $. Ceux-ci sont\n",
    "les valeurs que vous ajusterez pour minimiser le coût $ J (\\ theta) $. Une façon de le faire est de\n",
    "utiliser l'algorithme de descente de gradient par lots. En descente de gradient par lots, chacun\n",
    "l'itération effectue la mise à jour\n",
    "\n",
    "$$ \\theta_j = \\theta_j - \\alpha \\frac{1}{m} \\sum_{i=1}^m \\left( h_\\theta(x^{(i)}) - y^{(i)}\\right)x_j^{(i)} \\qquad \\text{simultaneously update } \\theta_j \\text{ for all } j$$\n",
    "\n",
    "A chaque étape de descente de gradient, vos paramètres $ \\theta_j $ se rapprochent des valeurs optimales qui permettront d'atteindre le coût le plus bas J ($ \\theta $).\n",
    "\n",
    "<div class=\"alert alert-block alert-warning\">\n",
    "** Note d'implémentation: ** Nous stockons chaque exemple sous forme de ligne dans la matrice $ X $ en Python `numpy`. Pour prendre en compte le terme d'interception ($ \\theta_0 $), nous ajoutons une première colonne supplémentaire à $ X $ et la définissons sur toutes les autres. Cela nous permet de traiter $ \\theta_0 $ comme simplement une autre «fonctionnalité».\n",
    "</div>\n",
    "\n",
    "\n",
    "#### 2.2.2 Implementation\n",
    "\n",
    "Nous avons déjà configuré les données pour la régression linéaire. Dans la cellule suivante, nous ajoutons une autre dimension à nos données pour tenir compte du terme d'interception $ \\theta_0 $. N'exécutez PAS cette cellule plusieurs fois."
   ]
  },
  {
   "cell_type": "code",
   "execution_count": 10,
   "metadata": {},
   "outputs": [],
   "source": [
    "# Add a column of ones to X. The numpy function stack joins arrays along a given axis. \n",
    "# The first axis (axis=0) refers to rows (training examples) \n",
    "# and second axis (axis=1) refers to columns (features).\n",
    "X = np.stack([np.ones(m), X], axis=1)"
   ]
  },
  {
   "cell_type": "code",
   "execution_count": 11,
   "metadata": {},
   "outputs": [],
   "source": [
    "def computeCost(X, y, theta):\n",
    "    \"\"\"\n",
    "    Compute cost for linear regression. Computes the cost of using theta as the\n",
    "    parameter for linear regression to fit the data points in X and y.\n",
    "    \n",
    "    Parameters\n",
    "    ----------\n",
    "    X : array_like\n",
    "        The input dataset of shape (m x n+1), where m is the number of examples,\n",
    "        and n is the number of features. We assume a vector of one's already \n",
    "        appended to the features so we have n+1 columns.\n",
    "    \n",
    "    y : array_like\n",
    "        The values of the function at each data point. This is a vector of\n",
    "        shape (m, ).\n",
    "    \n",
    "    theta : array_like\n",
    "        The parameters for the regression function. This is a vector of \n",
    "        shape (n+1, ).\n",
    "    \n",
    "    Returns\n",
    "    -------\n",
    "    J : float\n",
    "        The value of the regression cost function.\n",
    "    \n",
    "    Instructions\n",
    "    ------------\n",
    "    Compute the cost of a particular choice of theta. \n",
    "    You should set J to the cost.\n",
    "    \"\"\"\n",
    "    \n",
    "    # initialize some useful values\n",
    "    \n",
    "    \n",
    "    # You need to return the following variables correctly\n",
    "    J = 0\n",
    "    # =============================Your Code==============================\n",
    "    for i in range(m):\n",
    "        J += (X[i].dot(theta) - y[i])**2\n",
    "    J *= 1 / (2 * m)\n",
    "    # ===========================================================\n",
    "    return J "
   ]
  },
  {
   "cell_type": "markdown",
   "metadata": {},
   "source": [
    "Une fois que vous avez terminé la fonction, l'étape suivante exécutera computeCost deux fois en utilisant deux initialisations différentes de 𝜃. Vous verrez le coût imprimé à l'écran."
   ]
  },
  {
   "cell_type": "code",
   "execution_count": 12,
   "metadata": {},
   "outputs": [
    {
     "name": "stdout",
     "output_type": "stream",
     "text": [
      "With theta = [0, 0] \n",
      "Cost computed = 32.07\n",
      "Expected cost value (approximately) 32.07\n",
      "\n",
      "With theta = [-1, 2]\n",
      "Cost computed = 54.24\n",
      "Expected cost value (approximately) 54.24\n"
     ]
    }
   ],
   "source": [
    "J = computeCost(X, y, theta=np.array([0.0, 0.0]))\n",
    "print('With theta = [0, 0] \\nCost computed = %.2f' % J)\n",
    "print('Expected cost value (approximately) 32.07\\n')\n",
    "\n",
    "# further testing of the cost function\n",
    "J = computeCost(X, y, theta=np.array([-1, 2]))\n",
    "print('With theta = [-1, 2]\\nCost computed = %.2f' % J)\n",
    "print('Expected cost value (approximately) 54.24')"
   ]
  },
  {
   "cell_type": "markdown",
   "metadata": {},
   "source": [
    "*You should now submit your solutions by executing the following cell.*"
   ]
  },
  {
   "cell_type": "markdown",
   "metadata": {},
   "source": [
    "<a id=\"section3\"></a>\n",
    "#### 2.2.4 Gradient descent\n",
    "\n",
    "Ensuite, vous allez compléter une fonction qui implémente la descente de gradient.\n",
    "La structure de la boucle a été écrite pour vous et vous n'avez qu'à fournir les mises à jour de $ \\theta $ à chaque itération.\n",
    "\n",
    "Lorsque vous programmez, assurez-vous de comprendre ce que vous essayez d'optimiser et ce qui est mis à jour. Gardez à l'esprit que le coût $ J(\\theta) $ est paramétré par le vecteur $ \\theta $, pas $ X $ et $ y $. Autrement dit, nous minimisons la valeur de $ J(\\theta) $ en changeant les valeurs du vecteur $ \\ theta $, pas en changeant $ X $ ou $ y $. [Reportez-vous aux équations de ce cahier] (# section2) et aux conférences vidéo en cas de doute. Un bon moyen de vérifier que la descente de gradient fonctionne correctement est de regarder la valeur de $ J(\\theta) $ et de vérifier qu'elle diminue à chaque étape.\n",
    "\n",
    "Le code de démarrage de la fonction `gradientDescent` appelle` computeCost` à chaque itération et enregistre le coût dans une liste `python`. En supposant que vous avez correctement implémenté la descente de gradient et `computeCost`, votre valeur de $ J(\\theta) $ ne devrait jamais augmenter et devrait converger vers une valeur stable à la fin de l'algorithme.\n",
    "\n",
    "<div class=\"alert alert-box alert-warning\">\n",
    "** Vecteurs et matrices en `numpy` ** - Notes importantes de mise en œuvre\n",
    "\n",
    "Un vecteur dans «numpy» est un tableau unidimensionnel, par exemple «np.array ([1, 2, 3])» est un vecteur. Une matrice dans `numpy` est un tableau à deux dimensions, par exemple` np.array ([[1, 2, 3], [4, 5, 6]]) `. Cependant, ce qui suit est toujours considéré comme une matrice `np.array ([[1, 2, 3]])` car il a deux dimensions, même s'il a une forme de 1x3 (qui ressemble à un vecteur).\n",
    "\n",
    "Compte tenu de ce qui précède, la fonction `np.dot` que nous utiliserons pour toute multiplication matrice / vecteur a les propriétés suivantes:\n",
    "- Il effectue toujours des produits intérieurs sur des vecteurs. Si `x = np.array ([1, 2, 3])`, alors `np.dot (x, x)` est un scalaire.\n",
    "- Pour la multiplication matrice-vecteur, donc si $ X $ est une matrice $ m \\times n $ et $ y $ est un vecteur de longueur $ m $, alors l'opération `np.dot (y, X)` considère $ y $ comme vecteur $ 1 \\times m $. En revanche, si $ y $ est un vecteur de longueur $ n $, alors l'opération `np.dot (X, y)` considère $ y $ comme un vecteur $ n \\times 1 $.\n",
    "- Un vecteur peut être promu en matrice en utilisant `y [None]` ou `[y [np.newaxis]`. Autrement dit, si `y = np.array ([1, 2, 3])` est un vecteur de taille 3, alors `y [None,:]` est une matrice de forme $ 1 \\times 3 $. Nous pouvons utiliser `y [:, None]` pour obtenir une forme de $ 3 \\times 1 $.\n",
    "<div>\n",
    "<a id=\"gradientDescent\"></a>"
   ]
  },
  {
   "cell_type": "code",
   "execution_count": 13,
   "metadata": {},
   "outputs": [],
   "source": [
    "def gradientDescent(X, y, theta, alpha, num_iters):\n",
    "    \"\"\"\n",
    "    Performs gradient descent to learn `theta`. Updates theta by taking `num_iters`\n",
    "    gradient steps with learning rate `alpha`.\n",
    "    \n",
    "    Parameters\n",
    "    ----------\n",
    "    X : array_like\n",
    "        The input dataset of shape (m x n+1).\n",
    "    \n",
    "    y : arra_like\n",
    "        Value at given features. A vector of shape (m, ).\n",
    "    \n",
    "    theta : array_like\n",
    "        Initial values for the linear regression parameters. \n",
    "        A vector of shape (n+1, ).\n",
    "    \n",
    "    alpha : float\n",
    "        The learning rate.\n",
    "    \n",
    "    num_iters : int\n",
    "        The number of iterations for gradient descent. \n",
    "    \n",
    "    Returns\n",
    "    -------\n",
    "    theta : array_like\n",
    "        The learned linear regression parameters. A vector of shape (n+1, ).\n",
    "    \n",
    "    J_history : list\n",
    "        A python list for the values of the cost function after each iteration.\n",
    "    \n",
    "    Instructions\n",
    "    ------------\n",
    "    Peform a single gradient step on the parameter vector theta.\n",
    "\n",
    "    While debugging, it can be useful to print out the values of \n",
    "    the cost function (computeCost) and gradient here.\n",
    "    \"\"\"\n",
    "    # Initialize some useful values\n",
    "    \n",
    "    \n",
    "    # make a copy of theta, to avoid changing the original array, since numpy arrays\n",
    "    # are passed by reference to functions\n",
    "    theta = theta.copy()\n",
    "    \n",
    "    J_history = [] # Use a python list to save cost in every iteration\n",
    "    \n",
    "    \n",
    "    # ==================== YOUR CODE HERE =================================\n",
    "    for iteration in range(num_iters):\n",
    "        theta_tmp = list(theta)         \n",
    "        for j in range(len(theta)):\n",
    "            tmp = [(X[i].dot(theta_tmp) - y[i]) * X[i][j] for i in range(m)]\n",
    "            theta[j] -= alpha / m * sum(tmp)\n",
    "        J_history.append(computeCost(X, y, theta))\n",
    "            \n",
    "        \n",
    "        \n",
    "    # =====================================================================\n",
    "        \n",
    "    # save the cost J in every iteration\n",
    "    \n",
    "    \n",
    "    return theta, J_history"
   ]
  },
  {
   "cell_type": "markdown",
   "metadata": {},
   "source": [
    "Une fois que vous avez terminé, appelez la fonction `gradientDescent` implémentée et imprimez le $ \\theta $ calculé. Nous initialisons les paramètres $ \\theta $ à 0 et le taux d'apprentissage $ \\alpha $ à 0,01. Exécutez la cellule suivante pour vérifier votre code."
   ]
  },
  {
   "cell_type": "code",
   "execution_count": 14,
   "metadata": {},
   "outputs": [
    {
     "name": "stdout",
     "output_type": "stream",
     "text": [
      "Theta found by gradient descent: -3.630291, 1.1664\n",
      "Expected theta values (approximately): [-3.6303, 1.1664]\n"
     ]
    }
   ],
   "source": [
    "# initialize fitting parameters\n",
    "theta = np.zeros(2)\n",
    "\n",
    "# some gradient descent settings\n",
    "iterations = 1500\n",
    "alpha = 0.01\n",
    "\n",
    "theta, J_history = gradientDescent(X ,y, theta, alpha, iterations)\n",
    "print('Theta found by gradient descent: {:.6f}, {:.4f}'.format(*theta))\n",
    "print('Expected theta values (approximately): [-3.6303, 1.1664]')\n",
    "\n",
    "#print(len(J_history))"
   ]
  },
  {
   "cell_type": "markdown",
   "metadata": {},
   "source": [
    "Nous utiliserons vos paramètres finaux pour tracer l'ajustement linéaire. Les résultats doivent ressembler à la figure suivante.\n",
    "\n",
    "![](Figures/regression_result.png)"
   ]
  },
  {
   "cell_type": "code",
   "execution_count": 15,
   "metadata": {},
   "outputs": [
    {
     "data": {
      "image/png": "[encoded data removed]",
      "text/plain": [
       "<Figure size 432x288 with 1 Axes>"
      ]
     },
     "metadata": {
      "needs_background": "light"
     },
     "output_type": "display_data"
    }
   ],
   "source": [
    "# plot the linear fit\n",
    "plotData(X[:, 1], y,'Population of City in 10,000s',\"Profit in $10000\")\n",
    "plt.plot(X[:, 1], np.dot(X, theta), '-')\n",
    "plt.legend(['Training data', 'Linear regression']);"
   ]
  },
  {
   "cell_type": "markdown",
   "metadata": {},
   "source": [
    "Vos valeurs finales pour $ \\theta $ seront également utilisées pour faire des prévisions sur les bénéfices dans des zones de 35 000 et 70 000 personnes.\n",
    "\n",
    "<div class=\"alert alert-block alert-success\">\n",
    "Notez la façon dont les lignes suivantes utilisent la multiplication matricielle, plutôt que la sommation explicite ou le bouclage, pour calculer les prédictions. Ceci est un exemple de vectorisation de code dans `numpy`.\n",
    "</div>\n",
    "\n",
    "<div class=\"alert alert-block alert-success\">\n",
    "Notez que le premier argument de la fonction `numpy`` dot` est une liste python. `numpy` peut convertir en interne des listes de python ** valides ** en tableaux numpy lorsqu'il est explicitement fourni comme arguments aux fonctions de` numpy`.\n",
    "</div>\n"
   ]
  },
  {
   "cell_type": "code",
   "execution_count": 16,
   "metadata": {},
   "outputs": [
    {
     "name": "stdout",
     "output_type": "stream",
     "text": [
      "For population = 35,000, we predict a profit of 4519.77\n",
      "\n",
      "For population = 70,000, we predict a profit of 45342.45\n",
      "\n"
     ]
    }
   ],
   "source": [
    "# Predict values for population sizes of 35,000 and 70,000\n",
    "predict1 = np.dot([1, 3.5], theta)\n",
    "print('For population = 35,000, we predict a profit of {:.2f}\\n'.format(predict1*10000))\n",
    "\n",
    "predict2 = np.dot([1, 7], theta)\n",
    "print('For population = 70,000, we predict a profit of {:.2f}\\n'.format(predict2*10000))"
   ]
  },
  {
   "cell_type": "markdown",
   "metadata": {},
   "source": [
    "### 2.4 Visualizing $J(\\theta)$\n",
    "\n",
    "Pour mieux comprendre la fonction de coût $ J(\\theta) $, vous allez maintenant tracer le coût sur une grille à deux dimensions des valeurs $ \\theta_0 $ et $ \\theta_1 $. Vous n'aurez pas besoin de coder quoi que ce soit de nouveau pour cette partie, mais vous devez comprendre comment le code que vous avez déjà écrit crée ces images.\n",
    "\n",
    "Dans la cellule suivante, le code est configuré pour calculer $ J(\\theta) $ sur une grille de valeurs à l'aide de la fonction `computeCost` que vous avez écrite. Après avoir exécuté la cellule suivante, vous disposerez d'un tableau 2D de valeurs $ J(\\theta) $. Ensuite, ces valeurs sont utilisées pour produire des tracés de surface et de contour de $ J (\\theta) $ en utilisant les fonctions matplotlib `plot_surface` et` contourf`. Les tracés doivent ressembler à ceci:\n",
    "![](Figures/cost_function.png)\n",
    "\n",
    "The purpose of these graphs is to show you how $J(\\theta)$ varies with changes in $\\theta_0$ and $\\theta_1$. The cost function $J(\\theta)$ is bowl-shaped and has a global minimum. (This is easier to see in the contour plot than in the 3D surface plot). This minimum is the optimal point for $\\theta_0$ and $\\theta_1$, and each step of gradient descent moves closer to this point."
   ]
  },
  {
   "cell_type": "code",
   "execution_count": 17,
   "metadata": {},
   "outputs": [
    {
     "data": {
      "image/png": "[encoded data removed]",
      "text/plain": [
       "<Figure size 864x360 with 2 Axes>"
      ]
     },
     "metadata": {
      "needs_background": "light"
     },
     "output_type": "display_data"
    }
   ],
   "source": [
    "# grid over which we will calculate J\n",
    "theta0_vals = np.linspace(-20, 20, 100)\n",
    "theta1_vals = np.linspace(-1, 4, 100)\n",
    "\n",
    "# initialize J_vals to a matrix of 0's\n",
    "J_vals = np.zeros((theta0_vals.shape[0], theta1_vals.shape[0]))\n",
    "\n",
    "# Fill out J_vals\n",
    "for i, theta0 in enumerate(theta0_vals):\n",
    "    for j, theta1 in enumerate(theta1_vals):\n",
    "        J_vals[i, j] = computeCost(X, y, [theta0, theta1])\n",
    "        \n",
    "# Because of the way meshgrids work in the surf command, we need to\n",
    "# transpose J_vals before calling surf, or else the axes will be flipped\n",
    "J_vals = J_vals.T\n",
    "\n",
    "# surface plot\n",
    "fig = plt.figure(figsize=(12, 5))\n",
    "ax = fig.add_subplot(121, projection='3d')\n",
    "ax.plot_surface(theta0_vals, theta1_vals, J_vals, cmap='viridis')\n",
    "plt.xlabel('theta0')\n",
    "plt.ylabel('theta1')\n",
    "plt.title('Surface')\n",
    "\n",
    "# contour plot\n",
    "# Plot J_vals as 15 contours spaced logarithmically between 0.01 and 100\n",
    "ax = plt.subplot(122)\n",
    "plt.contour(theta0_vals, theta1_vals, J_vals, linewidths=2, cmap='viridis', levels=np.logspace(-2, 3, 20))\n",
    "plt.xlabel('theta0')\n",
    "plt.ylabel('theta1')\n",
    "plt.plot(theta[0], theta[1], 'ro', ms=10, lw=2)\n",
    "plt.title('Contour, showing minimum')\n",
    "pass"
   ]
  },
  {
   "cell_type": "markdown",
   "metadata": {},
   "source": [
    "### Exercice: Choisir 3 points dans le contour et representer les droites qui leur corespondent dans le nuage de points\n",
    "La figure ci-dessous n'est qu'un exemple de representation de 3 droites à partir de points choisis sur le contour"
   ]
  },
  {
   "cell_type": "code",
   "execution_count": 18,
   "metadata": {},
   "outputs": [
    {
     "data": {
      "image/png": "[encoded data removed]",
      "text/plain": [
       "<Figure size 432x288 with 1 Axes>"
      ]
     },
     "metadata": {
      "needs_background": "light"
     },
     "output_type": "display_data"
    }
   ],
   "source": [
    "# plot the linear fit\n",
    "plotData(X[:, 1], y,'Population of City in 10,000s',\"Profit in $10000\")\n",
    "#---------Your Code --------------------------\n",
    "plt.plot(X[:, 1], np.dot(X, [theta0_vals[44],theta1_vals[44]]), '-')\n",
    "plt.plot(X[:, 1], np.dot(X, [theta0_vals[20],theta1_vals[20]]), '-')\n",
    "plt.plot(X[:, 1], np.dot(X, [theta0_vals[50],theta1_vals[50]]), '-')\n",
    "\n",
    "plt.legend(['Training data', 'Linear regression']);"
   ]
  },
  {
   "cell_type": "markdown",
   "metadata": {},
   "source": [
    "### Exercice optionnel:\n",
    "Reprendre les mêmes cellules en changeant de cost function, prenez la moyenne des valeurs absolues des erreurs ( MAE).\n",
    "\n",
    "L'objectif de la régression linéaire sera de minimiser la fonction de coût\n",
    "\n",
    "$$ J(\\theta) = \\frac{1}{m} \\sum_{i=1}^m \\lvert h_{\\theta}(x^{(i)}) - y^{(i)}\\rvert$$\n",
    "\n",
    "où la fonction d'hypothèse $h_\\theta(x)$ est donné par le modèle linéaire\n",
    "$$ h_\\theta(x) = \\theta^Tx = \\theta_0 + \\theta_1 x_1$$\n",
    "\n",
    "Rappelez-vous que les paramètres de votre modèle sont les valeurs $ \\theta_j $. Ceux-ci sont\n",
    "les valeurs que vous ajusterez pour minimiser le coût $ J (\\ theta) $. Une façon de le faire est de\n",
    "utiliser l'algorithme de descente de gradient par lots. \n",
    "Est-ce que cet algorithme est applicable dans ce cas ci ? Si oui appliquer le et trouver les valeurs de $ \\theta_j $ qui minimisent J\n",
    "Si non expliquer pourquoi ?\n",
    "\n",
    "Implementer l'algorithme du grid search pour trouver le minimum"
   ]
  },
  {
   "cell_type": "code",
   "execution_count": 19,
   "metadata": {},
   "outputs": [],
   "source": [
    "def computeCostMAE(X, y, theta):\n",
    "   \n",
    "    J = 0 \n",
    "    # =============================Your Code==============================\n",
    "    for i in range(m):\n",
    "        J += np.abs((X[i].dot(theta) - y[i]))\n",
    "    J *= 1 /  m\n",
    "    # ===========================================================\n",
    "    return J"
   ]
  },
  {
   "cell_type": "code",
   "execution_count": 20,
   "metadata": {},
   "outputs": [],
   "source": [
    "def gradientDescentMAE(X, y, theta, alpha, num_iters):\n",
    "   \n",
    "    theta = theta.copy()\n",
    "    \n",
    "    J_history = [] # Use a python list to save cost in every iteration\n",
    "    \n",
    "    \n",
    "    # ==================== YOUR CODE HERE =================================\n",
    "    for iteration in range(num_iters):\n",
    "        theta_tmp = list(theta)         \n",
    "        for j in range(len(theta)):\n",
    "            tmp = [ ((X[i].dot(theta_tmp) - y[i]) / np.abs(X[i].dot(theta_tmp) - y[i])) * X[i][j] for i in range(m)]\n",
    "            theta[j] -= alpha /  m * sum(tmp)\n",
    "        J_history.append(computeCostMAE(X, y, theta))  \n",
    "        \n",
    "        \n",
    "    # =====================================================================\n",
    "        \n",
    "    # save the cost J in every iteration\n",
    "    \n",
    "    \n",
    "    return theta, J_history"
   ]
  },
  {
   "cell_type": "markdown",
   "metadata": {},
   "source": [
    "### les valeurs de $ \\theta_j $ qui minimisent J"
   ]
  },
  {
   "cell_type": "code",
   "execution_count": 21,
   "metadata": {},
   "outputs": [
    {
     "name": "stdout",
     "output_type": "stream",
     "text": [
      "Theta found by gradient descent: -2.273608, 0.9610\n"
     ]
    }
   ],
   "source": [
    "# initialize fitting parameters\n",
    "theta = np.zeros(2)\n",
    "\n",
    "# some gradient descent settings\n",
    "iterations = 1500\n",
    "alpha = 0.01\n",
    "\n",
    "theta, J_history = gradientDescentMAE(X ,y, theta, alpha, iterations)\n",
    "print('Theta found by gradient descent: {:.6f}, {:.4f}'.format(*theta))"
   ]
  },
  {
   "cell_type": "markdown",
   "metadata": {},
   "source": [
    "\n",
    "## 3 Regression lineaire avec plusieurs variables\n",
    "\n",
    "Dans cette partie, vous allez implémenter une régression linéaire avec plusieurs variables pour prédire les prix des maisons. Supposons que vous vendiez votre maison et que vous vouliez savoir ce que serait un bon prix du marché. Une façon de le faire est de recueillir d'abord des informations sur les maisons récemment vendues et de faire un modèle de prix des logements.\n",
    "\n",
    "Le fichier «Data/ex1data2.txt» contient un ensemble de formation sur les prix des logements à Portland, Oregon. La première colonne est la taille de la maison (en pieds carrés), la deuxième colonne est le nombre de chambres et la troisième colonne est le prix de la maison.\n",
    "\n",
    "<a id=\"section4\"> </a>\n",
    "### 3.1 Feature Normalization\n",
    "\n",
    "Nous commençons par charger et afficher certaines valeurs de cet ensemble de données. En examinant les valeurs, notez que la taille des maisons représente environ 1000 fois la valeur du nombre de chambres. Lorsque les entités diffèrent par ordre de grandeur, la première mise à l'échelle des entités peut faire converger l'algorithme de descente du gradient beaucoup plus rapidement."
   ]
  },
  {
   "cell_type": "code",
   "execution_count": 22,
   "metadata": {},
   "outputs": [
    {
     "name": "stdout",
     "output_type": "stream",
     "text": [
      "  X[:,0] X[:, 1]         y\n",
      "--------------------------\n",
      "    2104       3    399900\n",
      "    1600       3    329900\n",
      "    2400       3    369000\n",
      "    1416       2    232000\n",
      "    3000       4    539900\n",
      "    1985       4    299900\n",
      "    1534       3    314900\n",
      "    1427       3    198999\n",
      "    1380       3    212000\n",
      "    1494       3    242500\n"
     ]
    }
   ],
   "source": [
    "# Load data\n",
    "data = np.loadtxt(os.path.join('Data', 'ex1data2.txt'), delimiter=',')\n",
    "X = data[:, :2]\n",
    "y = data[:, 2]\n",
    "m = y.size\n",
    "\n",
    "# print out some data points\n",
    "print('{:>8s}{:>8s}{:>10s}'.format('X[:,0]', 'X[:, 1]', 'y'))\n",
    "print('-'*26)\n",
    "for i in range(10):\n",
    "    print('{:8.0f}{:8.0f}{:10.0f}'.format(X[i, 0], X[i, 1], y[i]))"
   ]
  },
  {
   "cell_type": "markdown",
   "metadata": {},
   "source": [
    "Votre tâche ici est de compléter le code dans la fonction `featureNormalize`:\n",
    "- Soustrayez la valeur moyenne de chaque entité de l'ensemble de données.\n",
    "- Après avoir soustrait la moyenne, mettre à l'échelle (diviser) en plus les valeurs des caractéristiques par leurs «écarts-types» respectifs.\n",
    "\n",
    "L'écart type est un moyen de mesurer l'ampleur de la variation de la plage de valeurs d'une caractéristique particulière (la plupart des points de données se situent à ± 2 écarts types de la moyenne); c'est une alternative à la prise de la plage de valeurs (max-min). Dans `numpy`, vous pouvez utiliser la fonction` std` pour calculer l'écart type.\n",
    "\n",
    "Par exemple, la quantité `X [:, 0]` contient toutes les valeurs de $ x_1 $ (tailles de maison) dans le jeu de formation, donc `np.std (X [:, 0])` calcule l'écart type de la tailles de maison.\n",
    "Au moment où la fonction `featureNormalize` est appelée, la colonne supplémentaire de 1 correspondant à $ x_0 = 1 $ n'a pas encore été ajoutée à $ X $.\n",
    "\n",
    "Vous le ferez pour toutes les fonctionnalités et votre code devrait fonctionner avec des ensembles de données de toutes tailles (n'importe quel nombre de fonctionnalités / exemples). Notez que chaque colonne de la matrice $ X $ correspond à une entité.\n",
    "\n",
    "<div class=\"alert alert-block alert-warning\">\n",
    "** Remarque sur la mise en œuvre: ** Lors de la normalisation des fonctionnalités, il est important\n",
    "pour stocker les valeurs utilisées pour la normalisation - la valeur moyenne et l'écart-type utilisé pour les calculs. Après avoir appris les paramètres à partir du modèle, nous voulons souvent prédire les prix des maisons que nous n'avons pas déjà vu. Étant donné une nouvelle valeur x (surface habitable et nombre de chambres), nous devons d'abord normaliser x en utilisant la moyenne et l'écart type que nous avions précédemment calculés à partir de l'ensemble de formation.\n",
    "</div>\n",
    "<a id=\"featureNormalize\"></a>"
   ]
  },
  {
   "cell_type": "code",
   "execution_count": 23,
   "metadata": {},
   "outputs": [],
   "source": [
    "def  featureNormalize(X):\n",
    "    \"\"\"\n",
    "    Normalizes the features in X. returns a normalized version of X where\n",
    "    the mean value of each feature is 0 and the standard deviation\n",
    "    is 1. This is often a good preprocessing step to do when working with\n",
    "    learning algorithms.\n",
    "    \n",
    "    Parameters\n",
    "    ----------\n",
    "    X : array_like\n",
    "        The dataset of shape (m x n).\n",
    "    \n",
    "    Returns\n",
    "    -------\n",
    "    X_norm : array_like\n",
    "        The normalized dataset of shape (m x n).\n",
    "    \n",
    "    Instructions\n",
    "    ------------\n",
    "    First, for each feature dimension, compute the mean of the feature\n",
    "    and subtract it from the dataset, storing the mean value in mu. \n",
    "    Next, compute the  standard deviation of each feature and divide\n",
    "    each feature by it's standard deviation, storing the standard deviation \n",
    "    in sigma. \n",
    "    \n",
    "    Note that X is a matrix where each column is a feature and each row is\n",
    "    an example. You needto perform the normalization separately for each feature. \n",
    "    \n",
    "    Hint\n",
    "    ----\n",
    "    You might find the 'np.mean' and 'np.std' functions useful.\n",
    "    \"\"\"\n",
    "    # You need to set these values correctly\n",
    "    \n",
    "   \n",
    "    \n",
    "    X_norm = X.copy() \n",
    "    #mu = np.zeros(X.shape[1])\n",
    "    #sigma = np.zeros(X.shape[1])\n",
    "    mu = []\n",
    "    sigma = []\n",
    "    n = X_norm.shape[1]\n",
    "    # =========================== YOUR CODE HERE =====================\n",
    "\n",
    "    for i in range (n) :\n",
    "        #mu=[np.mean(X [:, 0]),np.mean(X [:, 1])]\n",
    "        mu.append(np.mean(X [:, i]))\n",
    "        #sigma=[np.std(X [:, 0]),np.std(X [:, 1])]\n",
    "        sigma.append(np.std(X [:, i]))\n",
    "    X_norm=(np.array(X)-mu)/sigma\n",
    "    \n",
    "     \n",
    "    #X_norm=X_norm.tolist()\n",
    "    # ================================================================\n",
    "    return X_norm, mu, sigma"
   ]
  },
  {
   "cell_type": "markdown",
   "metadata": {},
   "source": [
    "Execute the next cell to run the implemented `featureNormalize` function."
   ]
  },
  {
   "cell_type": "code",
   "execution_count": 24,
   "metadata": {},
   "outputs": [
    {
     "name": "stdout",
     "output_type": "stream",
     "text": [
      "Computed mean: [2000.6808510638298, 3.1702127659574466]\n",
      "Computed standard deviation: [786.2026187430467, 0.7528428090618781]\n"
     ]
    }
   ],
   "source": [
    "# call featureNormalize on the loaded data\n",
    "X_norm, mu, sigma = featureNormalize(X)\n",
    "\n",
    "print('Computed mean:', mu)\n",
    "print('Computed standard deviation:', sigma)\n",
    "# Computed mean: [2000.68085106    3.17021277]\n",
    "# Computed standard deviation: [7.86202619e+02 7.52842809e-01"
   ]
  },
  {
   "cell_type": "markdown",
   "metadata": {},
   "source": [
    "After the `featureNormalize` function is tested, we now add the intercept term to `X_norm`:"
   ]
  },
  {
   "cell_type": "code",
   "execution_count": 25,
   "metadata": {},
   "outputs": [],
   "source": [
    "# Add intercept term to X\n",
    "X = np.concatenate([np.ones((m, 1)), X_norm], axis=1)\n"
   ]
  },
  {
   "cell_type": "markdown",
   "metadata": {},
   "source": [
    "<a id=\"section5\"></a>\n",
    "### 3.2 Gradient Descent\n",
    "\n",
    "Auparavant, vous avez implémenté la descente de gradient sur un problème de régression univariée. La seule différence maintenant est qu'il y a une caractéristique de plus dans la matrice 𝑋. La fonction d'hypothèse et la règle de mise à jour de descente de gradient par lots restent inchangées.\n",
    "\n",
    "Vous devez compléter le code des fonctions computeCostMulti et gradientDescentMulti pour implémenter la fonction de coût et la descente de gradient pour la régression linéaire avec plusieurs variables. Si votre code dans la partie précédente (variable unique) prend déjà en charge plusieurs variables, vous pouvez également l'utiliser ici. Assurez-vous que votre code prend en charge un certain nombre de fonctionnalités et qu'il est bien vectorisé. Vous pouvez utiliser la propriété \"shape\" des tableaux numpy pour savoir combien d'entités sont présentes dans l'ensemble de données.\n",
    "<div class=\"alert alert-block alert-warning\">\n",
    "** Remarque sur la mise en œuvre: ** Dans le cas multivarié, la fonction de coût peut\n",
    "être également écrit sous la forme vectorisée suivante:\n",
    "    \n",
    "$$ J(\\theta) = \\frac{1}{2m}(X\\theta - \\vec{y})^T(X\\theta - \\vec{y}) $$\n",
    "\n",
    "où\n",
    "\n",
    "$$ X = \\begin{pmatrix}\n",
    "          - (x^{(1)})^T - \\\\\n",
    "          - (x^{(2)})^T - \\\\\n",
    "          \\vdots \\\\\n",
    "          - (x^{(m)})^T - \\\\ \\\\\n",
    "        \\end{pmatrix} \\qquad \\mathbf{y} = \\begin{bmatrix} y^{(1)} \\\\ y^{(2)} \\\\ \\vdots \\\\ y^{(m)} \\\\\\end{bmatrix}$$\n",
    "\n",
    "la version vectorisée est efficace lorsque vous travaillez avec des outils informatiques numériques comme `numpy`. Si vous êtes un expert des opérations matricielles, vous pouvez vous prouver que les deux formes sont équivalentes.\n",
    "</div>\n",
    "\n",
    "<a id=\"computeCostMulti\"></a>"
   ]
  },
  {
   "cell_type": "code",
   "execution_count": 26,
   "metadata": {},
   "outputs": [],
   "source": [
    "def computeCostMulti(X, y, theta):\n",
    "    \"\"\"\n",
    "    Compute cost for linear regression with multiple variables.\n",
    "    Computes the cost of using theta as the parameter for linear regression to fit the data points in X and y.\n",
    "    \n",
    "    Parameters\n",
    "    ----------\n",
    "    X : array_like\n",
    "        The dataset of shape (m x n+1).\n",
    "    \n",
    "    y : array_like\n",
    "        A vector of shape (m, ) for the values at a given data point.\n",
    "    \n",
    "    theta : array_like\n",
    "        The linear regression parameters. A vector of shape (n+1, )\n",
    "    \n",
    "    Returns\n",
    "    -------\n",
    "    J : float\n",
    "        The value of the cost function. \n",
    "    \n",
    "    Instructions\n",
    "    ------------\n",
    "    Compute the cost of a particular choice of theta. You should set J to the cost.\n",
    "    \"\"\"\n",
    "    # Initialize some useful values\n",
    "    m = y.shape[0] # number of training examples\n",
    "    \n",
    "    # You need to return the following variable correctly\n",
    "    J = 0\n",
    "    \n",
    "    # ======================= YOUR CODE HERE ===========================\n",
    "    for i in range(m):\n",
    "        J += (X[i].dot(theta) - y[i])**2\n",
    "    J *= 1 / (2 * m)\n",
    "   \n",
    "    # ==================================================================\n",
    "    return J\n"
   ]
  },
  {
   "cell_type": "code",
   "execution_count": 27,
   "metadata": {},
   "outputs": [],
   "source": [
    "def gradientDescentMulti(X, y, theta, alpha, num_iters):\n",
    "    \"\"\"\n",
    "    Performs gradient descent to learn theta.\n",
    "    Updates theta by taking num_iters gradient steps with learning rate alpha.\n",
    "        \n",
    "    Parameters\n",
    "    ----------\n",
    "    X : array_like\n",
    "        The dataset of shape (m x n+1).\n",
    "    \n",
    "    y : array_like\n",
    "        A vector of shape (m, ) for the values at a given data point.\n",
    "    \n",
    "    theta : array_like\n",
    "        The linear regression parameters. A vector of shape (n+1, )\n",
    "    \n",
    "    alpha : float\n",
    "        The learning rate for gradient descent. \n",
    "    \n",
    "    num_iters : int\n",
    "        The number of iterations to run gradient descent. \n",
    "    \n",
    "    Returns\n",
    "    -------\n",
    "    theta : array_like\n",
    "        The learned linear regression parameters. A vector of shape (n+1, ).\n",
    "    \n",
    "    J_history : list\n",
    "        A python list for the values of the cost function after each iteration.\n",
    "    \n",
    "    Instructions\n",
    "    ------------\n",
    "    Peform a single gradient step on the parameter vector theta.\n",
    "\n",
    "    While debugging, it can be useful to print out the values of \n",
    "    the cost function (computeCost) and gradient here.\n",
    "    \"\"\"\n",
    "    # Initialize some useful values\n",
    "    m = y.shape[0] # number of training examples\n",
    "    \n",
    "    # make a copy of theta, which will be updated by gradient descent\n",
    "    theta = theta.copy()\n",
    "    \n",
    "    J_history = []\n",
    "    for iteration in range(num_iters):\n",
    "        theta_tmp = list(theta)         \n",
    "        for j in range(len(theta)):\n",
    "            tmp = [(X[i].dot(theta_tmp) - y[i]) * X[i][j] for i in range(m)]\n",
    "            theta[j] -= alpha / m * sum(tmp)\n",
    "        J_history.append(computeCostMulti(X, y, theta))\n",
    "    \n",
    "    \n",
    "    return theta, J_history"
   ]
  },
  {
   "cell_type": "markdown",
   "metadata": {},
   "source": [
    "#### 3.2.1 Exercise: Selection de taux d'apprentissage\n",
    "\n",
    "Dans cette partie de l'exercice, vous pourrez essayer différents taux d'apprentissage pour l'ensemble de données et trouver un taux d'apprentissage qui converge rapidement. Vous pouvez modifier le taux d'apprentissage en modifiant le code suivant et en modifiant la partie du code qui définit le taux d'apprentissage.\n",
    "\n",
    "Utilisez votre implémentation de la fonction `gradientDescentMulti` et exécutez la descente de gradient pendant environ 50 itérations au rythme d'apprentissage choisi. La fonction doit également renvoyer l'historique des valeurs $ J (\\ theta) $ dans un vecteur $ J $.\n",
    "\n",
    "Après la dernière itération, tracez les valeurs J par rapport au nombre d'itérations.\n",
    "\n",
    "Si vous avez choisi un taux d'apprentissage dans une bonne fourchette, votre graphique ressemble à la figure suivante.\n",
    "\n",
    "![](Figures/learning_rate.png)\n",
    "\n",
    "Si votre graphique semble très différent, surtout si votre valeur de $ J (\\theta) $ augmente ou explose, ajustez votre taux d'apprentissage et réessayez. Nous vous recommandons d'essayer les valeurs du taux d'apprentissage $ \\alpha $ sur une échelle logarithmique, à des étapes multiplicatives d'environ 3 fois la valeur précédente (c'est-à-dire 0,3, 0,1, 0,03, 0,01, etc.). Vous pouvez également ajuster le nombre d'itérations que vous exécutez si cela vous aide à voir la tendance globale de la courbe.\n",
    "\n",
    "<div class=\"alert alert-block alert-warning\">\n",
    "** Remarque sur la mise en œuvre: ** Si votre taux d'apprentissage est trop élevé, $ J (\\theta) $ peut diverger et \"exploser\", ce qui entraîne des valeurs trop grandes pour les calculs informatiques. Dans ces situations, `numpy` aura tendance à revenir\n",
    "NaNs. NaN signifie «pas un nombre» et est souvent causé par des opérations non définies qui impliquent −∞ et + ∞.\n",
    "</div>\n",
    "\n",
    "<div class=\"alert alert-block alert-warning\">\n",
    "** Astuce MATPLOTLIB: ** Pour comparer comment différents taux d'apprentissage d'apprentissage affectent la convergence, il est utile de tracer $ J $ pour plusieurs taux d'apprentissage sur la même figure. Cela peut être fait en faisant de `alpha` une liste python, en bouclant sur les valeurs de cette liste et en appelant la fonction plot à chaque itération de la boucle. Il est également utile d'avoir une légende pour distinguer les différentes lignes dans l'intrigue. Recherchez en ligne «pyplot.legend» pour obtenir de l'aide sur l'affichage des légendes dans «matplotlib».\n",
    "</div>\n",
    "\n",
    "Notez les changements dans les courbes de convergence à mesure que le taux d'apprentissage change. Avec un faible taux d'apprentissage, vous devriez constater que la descente de gradient met du temps à converger vers la valeur optimale. Inversement, avec un taux d'apprentissage élevé, la descente de gradient peut ne pas converger ou même diverger!\n",
    "En utilisant le meilleur taux d'apprentissage que vous avez trouvé, exécutez le script\n",
    "pour exécuter la descente du gradient jusqu'à la convergence pour trouver les valeurs finales de $ \\theta $. Prochain,\n",
    "utiliser cette valeur de $ \\theta $ pour prédire le prix d'une maison de 1650 pieds carrés et\n",
    "3 chambres. Vous utiliserez la valeur plus tard pour vérifier votre implémentation des équations normales. N'oubliez pas de normaliser vos fonctionnalités lorsque vous faites cette prédiction!"
   ]
  },
  {
   "cell_type": "code",
   "execution_count": 28,
   "metadata": {},
   "outputs": [
    {
     "name": "stdout",
     "output_type": "stream",
     "text": [
      "theta computed from gradient descent: [340412.65957447 109447.79558639  -6578.3539709 ]\n",
      "293081.4645291686\n",
      "Predicted price of a 1650 sq-ft, 3 br house (using gradient descent): $293081\n"
     ]
    },
    {
     "data": {
      "image/png": "[encoded data removed]",
      "text/plain": [
       "<Figure size 432x288 with 1 Axes>"
      ]
     },
     "metadata": {
      "needs_background": "light"
     },
     "output_type": "display_data"
    }
   ],
   "source": [
    "\"\"\"\n",
    "Instructions\n",
    "------------\n",
    "We have provided you with the following starter code that runs\n",
    "gradient descent with a particular learning rate (alpha). \n",
    "\n",
    "Your task is to first make sure that your functions - `computeCost`\n",
    "and `gradientDescent` already work with  this starter code and\n",
    "support multiple variables.\n",
    "\n",
    "After that, try running gradient descent with different values of\n",
    "alpha and see which one gives you the best result.\n",
    "\n",
    "Finally, you should complete the code at the end to predict the price\n",
    "of a 1650 sq-ft, 3 br house.\n",
    "\n",
    "Hint\n",
    "----\n",
    "At prediction, make sure you do the same feature normalization.\n",
    "\"\"\"\n",
    "# Choose some alpha value - change this\n",
    "alpha = 0.1\n",
    "num_iters = 400\n",
    "\n",
    "# init theta and run gradient descent\n",
    "theta = np.zeros(3)\n",
    "theta, J_history = gradientDescentMulti(X, y, theta, alpha, num_iters)\n",
    "\n",
    "# Plot the convergence graph\n",
    "pyplot.plot(np.arange(len(J_history)), J_history, lw=2)\n",
    "pyplot.xlabel('Number of iterations')\n",
    "pyplot.ylabel('Cost J')\n",
    "\n",
    "# Display the gradient descent's result\n",
    "print('theta computed from gradient descent: {:s}'.format(str(theta)))\n",
    "\n",
    "# Estimate the price of a 1650 sq-ft, 3 br house\n",
    "# ======================= YOUR CODE HERE ===========================\n",
    "# Recall that the first column of X is all-ones. \n",
    "# Thus, it does not need to be normalized.\n",
    "\n",
    "price = np.dot(np.array([1.,(1650. - mu[0])/sigma[0] , (3. - mu[1])/sigma[1]]),np.array(theta) )  # You should change this\n",
    "print(price)\n",
    "# ===================================================================\n",
    "\n",
    "print('Predicted price of a 1650 sq-ft, 3 br house (using gradient descent): ${:.0f}'.format(price))"
   ]
  },
  {
   "cell_type": "code",
   "execution_count": 29,
   "metadata": {},
   "outputs": [
    {
     "name": "stdout",
     "output_type": "stream",
     "text": [
      "theta computed with from gradient descent: [340412.65957447 109447.79646964  -6578.35485416]\n",
      "theta computed with from gradient descent: [340412.65957447 109447.79646964  -6578.35485416]\n",
      "theta computed with from gradient descent: [340412.65894002 109439.22578243  -6569.78416695]\n",
      "theta computed with from gradient descent: [340412.65957447 109447.79646948  -6578.35485399]\n",
      "theta computed with from gradient descent: [294388.89339564  83125.36792731  15212.40521995]\n",
      "theta computed with from gradient descent: [339576.43615572 105311.60418477  -2450.82887525]\n",
      "Predicted price of a 1650 sq-ft, 3 br house (using gradient descent): $0\n"
     ]
    },
    {
     "data": {
      "image/png": "[encoded data removed]",
      "text/plain": [
       "<Figure size 432x288 with 1 Axes>"
      ]
     },
     "metadata": {
      "needs_background": "light"
     },
     "output_type": "display_data"
    }
   ],
   "source": [
    "# Choose some alpha value - change this\n",
    "alpha = [0.1, 0.3,0.01,0.03, 0.001,0.003]\n",
    "num_iters = 2000\n",
    "\n",
    "# init theta and run gradient descent\n",
    "for i in range(len(alpha)):\n",
    "    theta = np.zeros(3)\n",
    "    theta, J_history = gradientDescentMulti(X, y, theta, alpha[i], num_iters)\n",
    "\n",
    "    # Plot the convergence graph\n",
    "    pyplot.plot(np.arange(len(J_history)), J_history, lw=2,label = 'learningrate'+str(alpha[i]))\n",
    "    pyplot.xlabel('Number of iterations')\n",
    "    pyplot.ylabel('Cost J')\n",
    "    pyplot.legend()\n",
    "    print('theta computed with from gradient descent: {:s}'.format(str(theta)))\n",
    "# Display the gradient descent's result\n",
    "\n",
    "\n",
    "# Estimate the price of a 1650 sq-ft, 3 br house\n",
    "# ======================= YOUR CODE HERE ===========================\n",
    "# Recall that the first column of X is all-ones. \n",
    "# Thus, it does not need to be normalized.\n",
    "\n",
    "price = 0   # You should change this\n",
    "\n",
    "# ===================================================================\n",
    "\n",
    "print('Predicted price of a 1650 sq-ft, 3 br house (using gradient descent): ${:.0f}'.format(price))"
   ]
  },
  {
   "cell_type": "markdown",
   "metadata": {},
   "source": [
    "#### 3.2.2 Exercise: Ecrivez une methode qui permet de predire le prix d'une maison en fonction de la superfice et du nombre de piece"
   ]
  },
  {
   "cell_type": "code",
   "execution_count": 30,
   "metadata": {},
   "outputs": [
    {
     "name": "stdout",
     "output_type": "stream",
     "text": [
      "293156.95784161903\n"
     ]
    }
   ],
   "source": [
    "def predict(superficie, pieces, mu, sigma,theta):\n",
    "    superficie = ((superficie - mu[0]) / sigma[0] )\n",
    "    pieces = ((pieces - mu[1]) / sigma[1] )\n",
    "    predict = np.dot([1,superficie, pieces], theta)\n",
    "    return predict\n",
    "\n",
    "price = predict(1650,3,mu,sigma,theta)\n",
    "print(price)"
   ]
  },
  {
   "cell_type": "markdown",
   "metadata": {},
   "source": [
    "<a id=\"section7\"></a>\n",
    "### 3.3 Normal Equations\n",
    "\n",
    "Dans les vidéos de conférence, vous avez appris que la solution de forme fermée à la régression linéaire est\n",
    "\n",
    "$$ \\theta = \\left( X^T X\\right)^{-1} X^T\\vec{y}$$\n",
    "\n",
    "L'utilisation de cette formule ne nécessite aucune mise à l'échelle des fonctionnalités et vous obtiendrez une solution exacte en un seul calcul: il n'y a pas de «boucle jusqu'à la convergence» comme dans la descente de gradient.\n",
    "\n",
    "Tout d'abord, nous rechargerons les données pour nous assurer que les variables n'ont pas été modifiées. N'oubliez pas que même si vous n'avez pas besoin de mettre à l'échelle vos fonctionnalités, nous devons toujours ajouter une colonne de 1 à la matrice $ X $ pour avoir un terme d'interception ($ \\theta_0 $). Le code dans la cellule suivante ajoutera la colonne de 1 à X pour vous."
   ]
  },
  {
   "cell_type": "code",
   "execution_count": 31,
   "metadata": {},
   "outputs": [],
   "source": [
    "# Load data\n",
    "data = np.loadtxt(os.path.join('Data', 'ex1data2.txt'), delimiter=',')\n",
    "X = data[:, :2]\n",
    "y = data[:, 2]\n",
    "m = y.size\n",
    "X = np.concatenate([np.ones((m, 1)), X], axis=1)"
   ]
  },
  {
   "cell_type": "markdown",
   "metadata": {},
   "source": [
    "Complétez le code de la fonction normalEqn ci-dessous pour utiliser la formule ci-dessus pour calculer 𝜃.\n",
    "\n",
    "<a id=\"normalEqn\"></a>"
   ]
  },
  {
   "cell_type": "code",
   "execution_count": 32,
   "metadata": {},
   "outputs": [],
   "source": [
    "def normalEqn(X, y):\n",
    "    \"\"\"\n",
    "    Computes the closed-form solution to linear regression using the normal equations.\n",
    "    \n",
    "    Parameters\n",
    "    ----------\n",
    "    X : array_like\n",
    "        The dataset of shape (m x n+1).\n",
    "    \n",
    "    y : array_like\n",
    "        The value at each data point. A vector of shape (m, ).\n",
    "    \n",
    "    Returns\n",
    "    -------\n",
    "    theta : array_like\n",
    "        Estimated linear regression parameters. A vector of shape (n+1, ).\n",
    "    \n",
    "    Instructions\n",
    "    ------------\n",
    "    Complete the code to compute the closed form solution to linear\n",
    "    regression and put the result in theta.\n",
    "    \n",
    "    Hint\n",
    "    ----\n",
    "    Look up the function `np.linalg.pinv` for computing matrix inverse.\n",
    "    \"\"\"\n",
    "    theta = np.zeros(X.shape[1])\n",
    "    \n",
    "    # ===================== YOUR CODE HERE ===========================\n",
    "    transposer_X = np.transpose(X)\n",
    "    \n",
    "    X_transposer_X=np.dot(transposer_X,X)\n",
    "    \n",
    "    X_transposer_y=np.dot(transposer_X,y)\n",
    "   \n",
    "    theta=np.dot(np.linalg.pinv(X_transposer_X) , X_transposer_y)\n",
    "    \n",
    "    # =================================================================\n",
    "    return theta"
   ]
  },
  {
   "cell_type": "code",
   "execution_count": 33,
   "metadata": {},
   "outputs": [],
   "source": [
    "theta = normalEqn(X, y)"
   ]
  },
  {
   "cell_type": "markdown",
   "metadata": {},
   "source": [
    "#### 3.2.3 Exercise: Ecrivez une methode qui permet de predire le prix d'une maison en fonction de la superfice et du nombre de piece\n",
    "    utilisant l'équation normale"
   ]
  },
  {
   "cell_type": "code",
   "execution_count": 34,
   "metadata": {},
   "outputs": [
    {
     "name": "stdout",
     "output_type": "stream",
     "text": [
      "293081.4643349727\n"
     ]
    }
   ],
   "source": [
    "def predictnorm(superficie, pieces,theta):\n",
    "    predict = np.dot([1,superficie, pieces], theta)\n",
    "    return predict\n",
    "\n",
    "price = predictnorm(1650,3,theta)\n",
    "print(price)"
   ]
  },
  {
   "cell_type": "markdown",
   "metadata": {},
   "source": [
    "Maintenant, une fois que vous avez trouvé 𝜃 en utilisant cette méthode, utilisez-le pour faire une prévision de prix pour une maison de 1650 pieds carrés avec 3 chambres. Vous devriez trouver qui donne le même prix prévu que la valeur que vous avez obtenue en utilisant le modèle ajusté avec descente de gradient (dans la section 3.2.1)."
   ]
  },
  {
   "cell_type": "code",
   "execution_count": 35,
   "metadata": {},
   "outputs": [
    {
     "name": "stdout",
     "output_type": "stream",
     "text": [
      "Theta computed from the normal equations: [89597.90954355   139.21067402 -8738.01911255]\n",
      "Predicted price of a 1650 sq-ft, 3 br house (using normal equations): $293081\n"
     ]
    }
   ],
   "source": [
    "# Calculate the parameters from the normal equation\n",
    "theta = normalEqn(X, y)\n",
    "\n",
    "# Display normal equation's result\n",
    "print('Theta computed from the normal equations: {:s}'.format(str(theta)));\n",
    "\n",
    "# Estimate the price of a 1650 sq-ft, 3 br house\n",
    "# ====================== YOUR CODE HERE ======================\n",
    "\n",
    "price = predictnorm(1650,3,theta) # You should change this\n",
    "# ============================================================\n",
    "\n",
    "print('Predicted price of a 1650 sq-ft, 3 br house (using normal equations): ${:.0f}'.format(price))"
   ]
  },
  {
   "cell_type": "markdown",
   "metadata": {},
   "source": [
    "### 4 Exercise: Trouvez des données et faites de la prévision en utilisant les algorithmes implementées dans ce notebook. "
   ]
  },
  {
   "cell_type": "markdown",
   "metadata": {},
   "source": [
    "##### Ici nous allons implémenter un modelé linéaire simple qui permet de prédire le salaire d’un employé par rapport au nombre d’années qu’il a comme expérience.Donc nous avons X comme années d’expérience et y comme comme  salaire"
   ]
  },
  {
   "cell_type": "code",
   "execution_count": 36,
   "metadata": {},
   "outputs": [],
   "source": [
    "data1 = np.genfromtxt(os.path.join('Data', 'Salaire_employes.csv'), delimiter=',',skip_header=1)\n",
    "X = data1[:,0]\n",
    "y = data1[:,1]\n",
    "m = X.size"
   ]
  },
  {
   "cell_type": "markdown",
   "metadata": {},
   "source": [
    "##### Affichage des 10 premières colonnes "
   ]
  },
  {
   "cell_type": "code",
   "execution_count": 37,
   "metadata": {},
   "outputs": [
    {
     "name": "stdout",
     "output_type": "stream",
     "text": [
      "    Exp(X)  salaire(y)\n",
      "--------------------------\n",
      "       1     39343\n",
      "       1     46205\n",
      "       2     37731\n",
      "       2     43525\n",
      "       2     39891\n",
      "       3     56642\n",
      "       3     60150\n",
      "       3     54445\n",
      "       3     64445\n",
      "       4     57189\n"
     ]
    }
   ],
   "source": [
    "print('{:>10s}{:>12s}'.format('Exp(X)', 'salaire(y)'))\n",
    "print('-'*26)\n",
    "for i in range(10):\n",
    "    print('{:8.0f}{:10.0f}'.format(X[i], y[i]))"
   ]
  },
  {
   "cell_type": "code",
   "execution_count": 38,
   "metadata": {},
   "outputs": [
    {
     "data": {
      "image/png": "[encoded data removed]",
      "text/plain": [
       "<Figure size 432x288 with 1 Axes>"
      ]
     },
     "metadata": {
      "needs_background": "light"
     },
     "output_type": "display_data"
    }
   ],
   "source": [
    "plotData(X, y,'Annees_experience','salaire')"
   ]
  },
  {
   "cell_type": "markdown",
   "metadata": {},
   "source": [
    "##### Transformation de la variable X afin d’ajouter 1 à chaque ligne pour permettre au modèle de pouvoir gérer theta0"
   ]
  },
  {
   "cell_type": "code",
   "execution_count": 39,
   "metadata": {},
   "outputs": [],
   "source": [
    "X = np.stack([np.ones(m), X], axis=1)"
   ]
  },
  {
   "cell_type": "markdown",
   "metadata": {},
   "source": [
    "##### Estimatios des paramètre theta0 et theta1"
   ]
  },
  {
   "cell_type": "code",
   "execution_count": 40,
   "metadata": {},
   "outputs": [
    {
     "name": "stdout",
     "output_type": "stream",
     "text": [
      "Theta found by gradient descent: 24796.021613, 9597.7911\n"
     ]
    }
   ],
   "source": [
    "theta = np.zeros(2)\n",
    "\n",
    "# some gradient descent settings\n",
    "iterations = 1500\n",
    "alpha = 0.01\n",
    "\n",
    "theta, J_history = gradientDescent(X ,y, theta, alpha, iterations)\n",
    "print('Theta found by gradient descent: {:.6f}, {:.4f}'.format(*theta))"
   ]
  },
  {
   "cell_type": "markdown",
   "metadata": {},
   "source": [
    "##### Représentation de la droite de régression linéaire"
   ]
  },
  {
   "cell_type": "code",
   "execution_count": 41,
   "metadata": {},
   "outputs": [
    {
     "data": {
      "image/png": "[encoded data removed]",
      "text/plain": [
       "<Figure size 432x288 with 1 Axes>"
      ]
     },
     "metadata": {
      "needs_background": "light"
     },
     "output_type": "display_data"
    }
   ],
   "source": [
    "# plot the linear fit\n",
    "plotData(X[:, 1], y,'Annees d_experience',\"Salaire\")\n",
    "plt.plot(X[:, 1], np.dot(X, theta), '-')\n",
    "plt.legend(['Training data', 'Linear regression']);"
   ]
  },
  {
   "cell_type": "markdown",
   "metadata": {},
   "source": [
    "##### Une fonction qui permet de prédire le salaire en fonction des années d’expérience   "
   ]
  },
  {
   "cell_type": "code",
   "execution_count": 42,
   "metadata": {},
   "outputs": [],
   "source": [
    "def prediction1(Experience) :\n",
    "    predict = np.dot([1, Experience], theta)\n",
    "    print(' pour ',Experience,'Annee d_experience le modele a predit un salaire de {:.0f}\\n'.format(predict))\n",
    "\n",
    "#predict2 = np.dot([1, 25], theta)\n",
    "#print('pour Annee d_experience = 25, le modele a predit un salaire de {:.0f}\\n'.format(predict2))"
   ]
  },
  {
   "cell_type": "code",
   "execution_count": 43,
   "metadata": {},
   "outputs": [
    {
     "name": "stdout",
     "output_type": "stream",
     "text": [
      " pour  4 Annee d_experience le modele a predit un salaire de 63187\n",
      "\n",
      " pour  25 Annee d_experience le modele a predit un salaire de 264741\n",
      "\n"
     ]
    }
   ],
   "source": [
    "prediction1(4)\n",
    "prediction1(25)"
   ]
  },
  {
   "cell_type": "markdown",
   "metadata": {},
   "source": [
    "##### Ici nous allons predire le profit réalisé par le démarrage d'un startups en fonction des dépense en recherche et développement, des dépenses en marketing, les frais d'administration et l'etat dans laquelle elle est basé.\n"
   ]
  },
  {
   "cell_type": "markdown",
   "metadata": {},
   "source": [
    "<div class=\"alert alert-block alert-warning\">\n",
    "Ici nous avons décidés de transformer toute les modalités de la variable state en des variables binaire. Donc ,NewYork, California, Florida deviennent des valeurs ( 1 si le startups si trouve et 0 sinon). Cela a été faite sur Excel avant de charger les données.</div>"
   ]
  },
  {
   "cell_type": "code",
   "execution_count": 44,
   "metadata": {},
   "outputs": [],
   "source": [
    "data= np.genfromtxt(os.path.join('Data', 'Startups.csv'), delimiter=',',skip_header=1)\n",
    "#A = np.column_stack((c1,c3))\n",
    "\n",
    "X1 = data[:, :3]\n",
    "X2 = data[:, 5:]\n",
    "X = np.column_stack((X1,X2))\n",
    "y = data[:, 4]\n",
    "m = y.size"
   ]
  },
  {
   "cell_type": "markdown",
   "metadata": {},
   "source": [
    "##### Affichage des 10 premières colonnes "
   ]
  },
  {
   "cell_type": "code",
   "execution_count": 45,
   "metadata": {},
   "outputs": [
    {
     "name": "stdout",
     "output_type": "stream",
     "text": [
      "Spend_RD   Admistration Spend   NewYork    California   Florida    profit\n",
      "---------------------------------------------------------------------------\n",
      "165349      136898    471784         1         0         0         192262\n",
      "162598      151378    443899         0         1         0         191792\n",
      "153442      101146    407935         0         0         1         191050\n",
      "144372      118672    383200         1         0         0         182902\n",
      "142107       91392    366168         0         0         1         166188\n",
      "131877       99815    362861         1         0         0         156991\n",
      "134615      147199    127717         0         1         0         156123\n",
      "130298      145530    323877         0         0         1         155753\n",
      "120543      148719    311613         1         0         0         152212\n",
      "123335      108679    304982         0         1         0         149760\n"
     ]
    }
   ],
   "source": [
    "print('{:>8s}{:>15s}{:>6s}{:>10s}{:>14s}{:>10s}{:>10s}'.format('Spend_RD', 'Admistration', 'Spend', 'NewYork', 'California', 'Florida', 'profit'))\n",
    "print('-'*75)\n",
    "for i in range(10):\n",
    "    print('{:5.0f}{:12.0f}{:10.0f}{:10.0f}{:10.0f}{:10.0f}{:15.0f}'.format(X[i, 0], X[i, 1], X[i, 2], X[i, 3], X[i, 4], X[i, 5], y[i]))"
   ]
  },
  {
   "cell_type": "markdown",
   "metadata": {},
   "source": [
    "##### La normalisation des variables independantes"
   ]
  },
  {
   "cell_type": "code",
   "execution_count": 46,
   "metadata": {},
   "outputs": [
    {
     "name": "stdout",
     "output_type": "stream",
     "text": [
      "Computed mean: [73721.6156, 121344.63960000001, 211025.09780000002, 0.34, 0.34, 0.32]\n",
      "Computed standard deviation: [45440.91556256534, 27736.20965129446, 121061.23118271725, 0.47370877129308037, 0.4737087712930804, 0.466476151587624]\n"
     ]
    }
   ],
   "source": [
    "# call featureNormalize on the loaded data\n",
    "X_norm, mu, sigma = featureNormalize(X)\n",
    "\n",
    "print('Computed mean:', mu)\n",
    "print('Computed standard deviation:', sigma)"
   ]
  },
  {
   "cell_type": "markdown",
   "metadata": {},
   "source": [
    "##### Transformation de la variable X afin d’ajouter 1 à chaque ligne pour permettre au modèle de pouvoir gérer theta0"
   ]
  },
  {
   "cell_type": "code",
   "execution_count": 47,
   "metadata": {},
   "outputs": [],
   "source": [
    "X = np.concatenate([np.ones((m, 1)), X_norm], axis=1)"
   ]
  },
  {
   "cell_type": "markdown",
   "metadata": {},
   "source": [
    "##### Estimations des paramètre theta0, theta1, theta2, theta3, theta4, theta5, theta6"
   ]
  },
  {
   "cell_type": "markdown",
   "metadata": {},
   "source": [
    "##### Visualisation du learning rate avec différentes valeurs "
   ]
  },
  {
   "cell_type": "code",
   "execution_count": 48,
   "metadata": {},
   "outputs": [],
   "source": [
    "num_iters = 2000\n",
    "alpha = 0.01\n",
    "theta = np.zeros(7)\n",
    "theta, J_history = gradientDescentMulti(X, y, theta, alpha, num_iters)"
   ]
  },
  {
   "cell_type": "code",
   "execution_count": 49,
   "metadata": {},
   "outputs": [
    {
     "name": "stdout",
     "output_type": "stream",
     "text": [
      "theta computed with from gradient descent: [ 1.12012639e+05  3.66264283e+04 -7.48997469e+02  3.26621519e+03\n",
      " -4.39094079e+01 -2.40671596e+01  6.90305306e+01]\n",
      "theta computed with from gradient descent: [ 1.12012639e+05  3.66264283e+04 -7.48997469e+02  3.26621519e+03\n",
      " -4.39094079e+01 -2.40671596e+01  6.90305306e+01]\n",
      "theta computed with from gradient descent: [ 1.12012639e+05  3.64304558e+04 -6.80090503e+02  3.45653366e+03\n",
      " -3.31442106e+01 -1.99141006e+01  5.38809697e+01]\n",
      "theta computed with from gradient descent: [ 1.12012639e+05  3.66264006e+04 -7.48987730e+02  3.26624209e+03\n",
      " -4.39078865e+01 -2.40665726e+01  6.90283895e+01]\n",
      "theta computed with from gradient descent: [96868.53873658 25385.11620164  2877.33975198 12673.66756187\n",
      "   494.39371812  -344.28100332  -152.4401825 ]\n",
      "theta computed with from gradient descent: [ 1.11737480e+05  3.23022748e+04  7.74504884e+02  7.45839056e+03\n",
      "  1.93196547e+02  6.31888263e+01 -2.60360577e+02]\n",
      "Predicted price of a 1650 sq-ft, 3 br house (using gradient descent): $0\n"
     ]
    },
    {
     "data": {
      "image/png": "[encoded data removed]",
      "text/plain": [
       "<Figure size 432x288 with 1 Axes>"
      ]
     },
     "metadata": {
      "needs_background": "light"
     },
     "output_type": "display_data"
    }
   ],
   "source": [
    "# Choose some alpha value - change this\n",
    "alpha = [0.1, 0.3,0.01,0.03, 0.001,0.003]\n",
    "\n",
    "# init theta and run gradient descent\n",
    "for i in range(len(alpha)):\n",
    "    theta = np.zeros(7)\n",
    "    theta, J_history = gradientDescentMulti(X, y, theta, alpha[i], num_iters)\n",
    "\n",
    "    # Plot the convergence graph\n",
    "    pyplot.plot(np.arange(len(J_history)), J_history, lw=2,label = 'learningrate'+str(alpha[i]))\n",
    "    pyplot.xlabel('Number of iterations')\n",
    "    pyplot.ylabel('Cost J')\n",
    "    pyplot.legend()\n",
    "    print('theta computed with from gradient descent: {:s}'.format(str(theta)))\n",
    "# Display the gradient descent's result\n",
    "\n",
    "\n",
    "# Estimate the price of a 1650 sq-ft, 3 br house\n",
    "# ======================= YOUR CODE HERE ===========================\n",
    "# Recall that the first column of X is all-ones. \n",
    "# Thus, it does not need to be normalized.\n",
    "\n",
    "price = 0   # You should change this\n",
    "\n",
    "# ===================================================================\n",
    "\n",
    "print('Predicted price of a 1650 sq-ft, 3 br house (using gradient descent): ${:.0f}'.format(price))"
   ]
  },
  {
   "cell_type": "markdown",
   "metadata": {},
   "source": [
    "##### Une fonction qui permet de prédire le profit en fonction des dépense en recherche et développement, des dépenses en marketing, les frais d'administration et l'etat dans laquelle elle est basé"
   ]
  },
  {
   "cell_type": "code",
   "execution_count": 50,
   "metadata": {},
   "outputs": [],
   "source": [
    "def prediction2(Spend,Administration,Marketing,NewYork,California,Florida, mu, sigma,theta):\n",
    "    Spend = ((Spend - mu[0]) / sigma[0] )\n",
    "    Administration = ((Administration - mu[1]) / sigma[1] )\n",
    "    Marketing = ((Marketing - mu[2]) / sigma[2] )\n",
    "    NewYork = ((NewYork - mu[3]) / sigma[3] )\n",
    "    California = ((California - mu[4]) / sigma[4] )\n",
    "    Florida = ((Florida - mu[4]) / sigma[4] )\n",
    "    predict = np.dot([1,Spend,Administration,Marketing,NewYork,California,Florida], theta)\n",
    "    return predict\n"
   ]
  },
  {
   "cell_type": "code",
   "execution_count": 51,
   "metadata": {},
   "outputs": [
    {
     "name": "stdout",
     "output_type": "stream",
     "text": [
      "191515.82093888687\n"
     ]
    }
   ],
   "source": [
    "profit = prediction2(165000,132000,456789,0,0,1,mu,sigma,theta)\n",
    "print(profit)"
   ]
  },
  {
   "cell_type": "code",
   "execution_count": null,
   "metadata": {},
   "outputs": [],
   "source": []
  },
  {
   "cell_type": "code",
   "execution_count": null,
   "metadata": {},
   "outputs": [],
   "source": []
  }
 ],
 "metadata": {
  "kernelspec": {
   "display_name": "Python 3",
   "language": "python",
   "name": "python3"
  },
  "language_info": {
   "codemirror_mode": {
    "name": "ipython",
    "version": 3
   },
   "file_extension": ".py",
   "mimetype": "text/x-python",
   "name": "python",
   "nbconvert_exporter": "python",
   "pygments_lexer": "ipython3",
   "version": "3.7.4"
  }
 },
 "nbformat": 4,
 "nbformat_minor": 4
}
